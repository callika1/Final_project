{
  "nbformat": 4,
  "nbformat_minor": 0,
  "metadata": {
    "colab": {
      "provenance": []
    },
    "kernelspec": {
      "name": "python3",
      "display_name": "Python 3"
    },
    "language_info": {
      "name": "python"
    }
  },
  "cells": [
    {
      "cell_type": "code",
      "execution_count": null,
      "metadata": {
        "id": "oJS27XL7ZUos"
      },
      "outputs": [],
      "source": [
        "import requests\n",
        "import pandas as pd\n",
        "\n",
        "# Mengakses API\n",
        "url = \"https://berita-indo-api-next.vercel.app/api/cnn-news/teknologi\"\n",
        "response = requests.get(url)\n",
        "\n",
        "# Memeriksa status respons\n",
        "if response.status_code == 200:\n",
        "    data = response.json()\n",
        "\n",
        "    # Mencetak kunci yang tersedia dalam respons API\n",
        "    print(\"Kunci dalam data respons API:\", data.keys())\n",
        "\n",
        "    # Mengubah data menjadi DataFrame\n",
        "    df = pd.DataFrame(data['data'])\n",
        "\n",
        "    # Mengubah kolom 'isoDate' menjadi tipe data datetime\n",
        "    df['isoDate'] = pd.to_datetime(df['isoDate'])\n",
        "\n",
        "    # Agregasi data berdasarkan kolom 'creator', dan mengurutkan berdasarkan jumlah berita terbanyak\n",
        "    if 'creator' in df.columns:\n",
        "        aggregated_data = df['creator'].value_counts().reset_index()\n",
        "        aggregated_data.columns = ['creator', 'jumlah_berita']\n",
        "        aggregated_data = aggregated_data.sort_values(by='jumlah_berita', ascending=False)\n",
        "        print(aggregated_data.head())\n",
        "    else:\n",
        "        print(\"Kolom 'creator' tidak ada dalam data.\")\n",
        "else:\n",
        "    print(\"Gagal mengakses API.\""
      ]
    }
  ]
}